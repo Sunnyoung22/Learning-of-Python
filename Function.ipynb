{
 "cells": [
  {
   "cell_type": "markdown",
   "metadata": {},
   "source": [
    "# Function"
   ]
  },
  {
   "cell_type": "code",
   "execution_count": 2,
   "metadata": {},
   "outputs": [
    {
     "output_type": "execute_result",
     "data": {
      "text/plain": "8"
     },
     "metadata": {},
     "execution_count": 2
    }
   ],
   "source": [
    "a = 2\n",
    "y = 3*a + 2\n",
    "y"
   ]
  },
  {
   "cell_type": "code",
   "execution_count": 5,
   "metadata": {
    "tags": []
   },
   "outputs": [
    {
     "output_type": "stream",
     "name": "stdout",
     "text": "5\n"
    }
   ],
   "source": [
    "def add_function(a,b):\n",
    "    c = a + b\n",
    "    print(c)\n",
    "\n",
    "if __name__ == \"__main__\":\n",
    "    add_function(2,3)"
   ]
  },
  {
   "cell_type": "code",
   "execution_count": 7,
   "metadata": {
    "tags": []
   },
   "outputs": [
    {
     "output_type": "stream",
     "name": "stdout",
     "text": "xyz\n"
    },
    {
     "output_type": "execute_result",
     "data": {
      "text/plain": "5"
     },
     "metadata": {},
     "execution_count": 7
    }
   ],
   "source": [
    "def name():\n",
    "    print(\"xyz\")\n",
    "name()\n",
    "\n",
    "def add(x,y):\n",
    "    return x+y\n",
    "add(2,3)"
   ]
  },
  {
   "cell_type": "code",
   "execution_count": 8,
   "metadata": {},
   "outputs": [
    {
     "output_type": "execute_result",
     "data": {
      "text/plain": "7"
     },
     "metadata": {},
     "execution_count": 8
    }
   ],
   "source": [
    "result = add(3,4)\n",
    "result"
   ]
  },
  {
   "cell_type": "code",
   "execution_count": 16,
   "metadata": {
    "tags": []
   },
   "outputs": [
    {
     "output_type": "stream",
     "name": "stdout",
     "text": "x= 10\ny= 3\nx= 3\ny= 10\n"
    },
    {
     "output_type": "execute_result",
     "data": {
      "text/plain": "13"
     },
     "metadata": {},
     "execution_count": 16
    }
   ],
   "source": [
    "def add(x,y):\n",
    "    print(\"x=\",x)\n",
    "    print(\"y=\",y)#\n",
    "    return x+y\n",
    "\n",
    "add(10,3)"
   ]
  },
  {
   "cell_type": "code",
   "execution_count": 17,
   "metadata": {
    "tags": []
   },
   "outputs": [
    {
     "output_type": "stream",
     "name": "stdout",
     "text": "x= 3\ny= 10\n"
    },
    {
     "output_type": "execute_result",
     "data": {
      "text/plain": "13"
     },
     "metadata": {},
     "execution_count": 17
    }
   ],
   "source": [
    "add(3,10)"
   ]
  },
  {
   "cell_type": "code",
   "execution_count": 19,
   "metadata": {
    "tags": []
   },
   "outputs": [
    {
     "output_type": "stream",
     "name": "stdout",
     "text": "x= 3\ny= 2\n"
    },
    {
     "output_type": "execute_result",
     "data": {
      "text/plain": "6"
     },
     "metadata": {},
     "execution_count": 19
    }
   ],
   "source": [
    "def times(x,y=2):\n",
    "    print(\"x=\",x)\n",
    "    print(\"y=\",y)\n",
    "    return x*y\n",
    "\n",
    "times(3)"
   ]
  },
  {
   "cell_type": "code",
   "execution_count": 21,
   "metadata": {
    "tags": []
   },
   "outputs": [
    {
     "output_type": "stream",
     "name": "stdout",
     "text": "x= 3\ny= 2\n"
    },
    {
     "output_type": "execute_result",
     "data": {
      "text/plain": "6"
     },
     "metadata": {},
     "execution_count": 21
    }
   ],
   "source": [
    "times(x=3)"
   ]
  },
  {
   "cell_type": "code",
   "execution_count": 23,
   "metadata": {
    "tags": []
   },
   "outputs": [
    {
     "output_type": "stream",
     "name": "stdout",
     "text": "x= xyz\ny= 3\n"
    },
    {
     "output_type": "execute_result",
     "data": {
      "text/plain": "'xyzxyzxyz'"
     },
     "metadata": {},
     "execution_count": 23
    }
   ],
   "source": [
    "times(\"xyz\",3)"
   ]
  },
  {
   "cell_type": "code",
   "execution_count": 36,
   "metadata": {
    "tags": []
   },
   "outputs": [
    {
     "output_type": "stream",
     "name": "stdout",
     "text": "第10个斐波那契数列:34\n[0, 1, 1, 2, 3, 5, 8, 13, 21, 34]\n"
    }
   ],
   "source": [
    "#coding=utf-8\n",
    "\n",
    "def fibs(n):\n",
    "    \"\"\"\n",
    "    Sunnyoung  2020.07.07\n",
    "    斐波那契数列\n",
    "    \"\"\"\n",
    "    a = [0,1] \n",
    "    for i in range(2,n):\n",
    "        a.append(a[i-1] + a[i-2])\n",
    "    print(\"第{}个斐波那契数列:{}\".format(n,a[len(a)-1]))\n",
    "    return a\n",
    "\n",
    "if __name__ == \"__main__\":\n",
    "    lst = fibs(10)\n",
    "    print(lst)"
   ]
  },
  {
   "cell_type": "code",
   "execution_count": 28,
   "metadata": {},
   "outputs": [
    {
     "output_type": "execute_result",
     "data": {
      "text/plain": "(1, 2, 3)"
     },
     "metadata": {},
     "execution_count": 28
    }
   ],
   "source": [
    "def my_fun():\n",
    "    return 1,2,3\n",
    "\n",
    "a = my_fun()\n",
    "a#返回元组"
   ]
  },
  {
   "cell_type": "code",
   "execution_count": 32,
   "metadata": {
    "tags": []
   },
   "outputs": [
    {
     "output_type": "stream",
     "name": "stdout",
     "text": "Hello!\nNone\nHello!\n"
    }
   ],
   "source": [
    "def my_fun():\n",
    "    print(\"Hello!\")\n",
    "\n",
    "a = my_fun()\n",
    "print(a)\n",
    "my_fun()"
   ]
  },
  {
   "cell_type": "code",
   "execution_count": 34,
   "metadata": {
    "tags": []
   },
   "outputs": [
    {
     "output_type": "stream",
     "name": "stdout",
     "text": "I am coding.\n"
    }
   ],
   "source": [
    "def my_fun():\n",
    "    print(\"I am coding.\")\n",
    "    return\n",
    "    print(\"I finished.\")\n",
    "\n",
    "my_fun()"
   ]
  },
  {
   "cell_type": "code",
   "execution_count": 37,
   "metadata": {},
   "outputs": [
    {
     "output_type": "execute_result",
     "data": {
      "text/plain": "'\\n    Sunnyoung  2020.07.07\\n    斐波那契数列\\n    '"
     },
     "metadata": {},
     "execution_count": 37
    }
   ],
   "source": [
    "fibs.__doc__"
   ]
  },
  {
   "cell_type": "code",
   "execution_count": 40,
   "metadata": {
    "tags": []
   },
   "outputs": [
    {
     "output_type": "stream",
     "name": "stdout",
     "text": "This x is in the funcx:--> 9\n----------------------------\nThis x is out of funcx:--> 2\n"
    }
   ],
   "source": [
    "x = 2\n",
    "\n",
    "def funcx():\n",
    "    x = 9\n",
    "    print(\"This x is in the funcx:-->\",x)\n",
    "\n",
    "funcx()\n",
    "print(\"----------------------------\")\n",
    "print(\"This x is out of funcx:-->\",x)"
   ]
  },
  {
   "cell_type": "code",
   "execution_count": 46,
   "metadata": {
    "tags": []
   },
   "outputs": [
    {
     "output_type": "stream",
     "name": "stdout",
     "text": "This x is in the funcx:--> 9\n----------------------------\nThis x is out of funcx:--> 9\n"
    }
   ],
   "source": [
    "x = 2\n",
    "def funcy(): #关于重写的问题?，如果叫funcx输出结果会和上面的相同\n",
    "    global x\n",
    "    x = 9\n",
    "    print(\"This x is in the funcx:-->\",x)\n",
    "\n",
    "funcy()\n",
    "print(\"----------------------------\")\n",
    "print(\"This x is out of funcx:-->\",x)"
   ]
  },
  {
   "cell_type": "code",
   "execution_count": 52,
   "metadata": {},
   "outputs": [
    {
     "output_type": "execute_result",
     "data": {
      "text/plain": "8"
     },
     "metadata": {},
     "execution_count": 52
    }
   ],
   "source": [
    "x = 7\n",
    "scope = vars()\n",
    "scope['x']\n",
    "scope['x'] += 1\n",
    "scope['x']"
   ]
  },
  {
   "cell_type": "code",
   "execution_count": 59,
   "metadata": {
    "tags": []
   },
   "outputs": [
    {
     "output_type": "stream",
     "name": "stdout",
     "text": "1\n(2, 3, 4, 5, 6, 7, 8, 9)\n45\n"
    }
   ],
   "source": [
    "def func(x,*arg):\n",
    "    print(x)\n",
    "    result = x\n",
    "    print(arg)\n",
    "    for i in arg:\n",
    "        result +=i\n",
    "    return result\n",
    "\n",
    "print(func(1,2,3,4,5,6,7,8,9))"
   ]
  },
  {
   "cell_type": "code",
   "execution_count": 61,
   "metadata": {
    "tags": []
   },
   "outputs": [
    {
     "output_type": "stream",
     "name": "stdout",
     "text": "(1, 2, 3)\n('qiwsir', 307, ['qiwsir', 2], {'name': 'qiwsir', 'lang': 'python'})\n"
    }
   ],
   "source": [
    "def foo(*args):\n",
    "    print(args)\n",
    "\n",
    "foo(1,2,3)\n",
    "foo(\"qiwsir\",307,[\"qiwsir\",2],{\"name\":\"qiwsir\",\"lang\":\"python\"})"
   ]
  },
  {
   "cell_type": "code",
   "execution_count": 64,
   "metadata": {
    "tags": []
   },
   "outputs": [
    {
     "output_type": "stream",
     "name": "stdout",
     "text": "('Python',)\n"
    }
   ],
   "source": [
    "foo(\"Python\")"
   ]
  },
  {
   "cell_type": "code",
   "execution_count": 65,
   "metadata": {
    "tags": []
   },
   "outputs": [
    {
     "output_type": "stream",
     "name": "stdout",
     "text": "x: 7\ntuple: ()\n"
    }
   ],
   "source": [
    "def foo(x,*args):#tuple\n",
    "    print(\"x:\",x)\n",
    "    print(\"tuple:\",args)\n",
    "\n",
    "foo(7)"
   ]
  },
  {
   "cell_type": "code",
   "execution_count": 68,
   "metadata": {
    "tags": []
   },
   "outputs": [
    {
     "output_type": "stream",
     "name": "stdout",
     "text": "{'a': 1, 'b': 2, 'c': 3}\n"
    }
   ],
   "source": [
    "def foo(**kargs):#dict\n",
    "    print(kargs)\n",
    "\n",
    "foo(a=1,b=2,c=3)\n",
    "#foo(1,2,3)"
   ]
  },
  {
   "cell_type": "code",
   "execution_count": 71,
   "metadata": {
    "tags": []
   },
   "outputs": [
    {
     "output_type": "stream",
     "name": "stdout",
     "text": "xyz\n3\nPython\n()\n{}\n1\n2\n3\n(4, 5)\n{}\n1\n2\n3\n(4, 5)\n{'name': 'Sunnyoung'}\n"
    }
   ],
   "source": [
    "def foo(x,y,z,*args,**kargs):\n",
    "    print(x)\n",
    "    print(y)\n",
    "    print(z)\n",
    "    print(args)\n",
    "    print(kargs)\n",
    "\n",
    "foo('xyz',3,\"Python\")\n",
    "foo(1,2,3,4,5)\n",
    "foo(1,2,3,4,5,name=\"Sunnyoung\")"
   ]
  },
  {
   "cell_type": "code",
   "execution_count": 72,
   "metadata": {
    "tags": []
   },
   "outputs": [
    {
     "output_type": "stream",
     "name": "stdout",
     "text": "x= 2\ny= 3\n"
    },
    {
     "output_type": "execute_result",
     "data": {
      "text/plain": "5"
     },
     "metadata": {},
     "execution_count": 72
    }
   ],
   "source": [
    "bars = (2,3)\n",
    "add(*bars)"
   ]
  },
  {
   "cell_type": "code",
   "execution_count": 80,
   "metadata": {
    "tags": []
   },
   "outputs": [
    {
     "output_type": "stream",
     "name": "stdout",
     "text": "Kivi is writing Starter learning Python\n"
    }
   ],
   "source": [
    "def book(author,name):\n",
    "    print(\"%s is writing %s\"%(author,name))\n",
    "\n",
    "#bars = {\"name\":\"Starter learning Python\",\"author\":\"Kivi\"}\n",
    "bars = dict(name = \"Starter learning Python\",author = \"Kivi\")\n",
    "book(**bars)"
   ]
  },
  {
   "cell_type": "markdown",
   "metadata": {},
   "source": [
    "def fool(p1,p2,p3,...)\n",
    "\n",
    "def foo(p1=value1,p2=value2,...)\n",
    "\n",
    "def foo(*args)\n",
    "\n",
    "def foo(**args)\n"
   ]
  },
  {
   "cell_type": "code",
   "execution_count": 81,
   "metadata": {
    "tags": []
   },
   "outputs": [
    {
     "output_type": "stream",
     "name": "stdout",
     "text": "55\n"
    }
   ],
   "source": [
    "# coding=utf-8\n",
    "\n",
    "def fib(n):\n",
    "    \"\"\"\n",
    "    This is Fibonacci by Recursion.\n",
    "    \"\"\"\n",
    "    if n==0:\n",
    "        return 0\n",
    "    elif n==1:\n",
    "        return 1\n",
    "    else:\n",
    "        return fib(n-1) + fib(n-2)\n",
    "\n",
    "if __name__ == \"__main__\":\n",
    "    f = fib(10)\n",
    "    print(f)"
   ]
  },
  {
   "cell_type": "code",
   "execution_count": 84,
   "metadata": {
    "tags": []
   },
   "outputs": [
    {
     "output_type": "stream",
     "name": "stdout",
     "text": "55\n"
    }
   ],
   "source": [
    "# coding=utf-8\n",
    "\n",
    "\"\"\"\n",
    "the better Fibonacci\n",
    "\"\"\"\n",
    "meno = {0:0, 1:1}    #初始化dict\n",
    "\n",
    "def fib(n):\n",
    "    if not n in meno:#如果不在初始化范围内\n",
    "        meno[n] = fib(n-1) + fib(n-2)\n",
    "    return meno[n]\n",
    "\n",
    "if __name__ == \"__main__\":\n",
    "    f = fib(10)\n",
    "    print(f)"
   ]
  },
  {
   "cell_type": "code",
   "execution_count": 87,
   "metadata": {},
   "outputs": [
    {
     "output_type": "execute_result",
     "data": {
      "text/plain": "[3, 4, 5, 6, 7, 8, 9, 10, 11, 12]"
     },
     "metadata": {},
     "execution_count": 87
    }
   ],
   "source": [
    "def add(x):\n",
    "    x += 3\n",
    "    return x\n",
    "\n",
    "numbers = range(10)\n",
    "new_numbers = []\n",
    "for i in numbers:\n",
    "    new_numbers.append(add(i))\n",
    "\n",
    "#new_numbers = [i+3 for i in numbers]\n",
    "new_numbers"
   ]
  },
  {
   "cell_type": "code",
   "execution_count": 88,
   "metadata": {},
   "outputs": [
    {
     "output_type": "execute_result",
     "data": {
      "text/plain": "[3, 4, 5, 6, 7, 8, 9, 10, 11, 12]"
     },
     "metadata": {},
     "execution_count": 88
    }
   ],
   "source": [
    "lam = lambda x:x+3\n",
    "n2 = []\n",
    "for i in numbers:\n",
    "    n2.append(lam(i))\n",
    "n2"
   ]
  },
  {
   "cell_type": "code",
   "execution_count": 92,
   "metadata": {},
   "outputs": [
    {
     "output_type": "execute_result",
     "data": {
      "text/plain": "16"
     },
     "metadata": {},
     "execution_count": 92
    }
   ],
   "source": [
    "g = lambda x,y:x+y\n",
    "g(3,4)\n",
    "(lambda x:x**2)(4)"
   ]
  },
  {
   "cell_type": "markdown",
   "metadata": {},
   "source": [
    "在lambda后面直接跟变量\n",
    "\n",
    "变量后面是冒号\n",
    "\n",
    "冒号后面是表达式，表达式计算结果就是本函数的返回值"
   ]
  },
  {
   "cell_type": "code",
   "execution_count": 96,
   "metadata": {
    "tags": []
   },
   "outputs": [
    {
     "output_type": "stream",
     "name": "stdout",
     "text": "2\n4\n8\n16\n"
    }
   ],
   "source": [
    "lamb = [ lambda x:x,lambda x:x**2,lambda x:x**3,lambda x:x**4]\n",
    "for i in lamb:\n",
    "    print(i(2))"
   ]
  },
  {
   "cell_type": "code",
   "execution_count": 102,
   "metadata": {},
   "outputs": [
    {
     "output_type": "execute_result",
     "data": {
      "text/plain": "[3, 4, 5, 6, 7, 8, 9, 10, 11, 12]"
     },
     "metadata": {},
     "execution_count": 102
    }
   ],
   "source": [
    "numbers\n",
    "map(add,numbers)\n",
    "map(lambda x:x+3,numbers)\n",
    "list(map(add,numbers))"
   ]
  },
  {
   "cell_type": "markdown",
   "metadata": {},
   "source": [
    "对iterable中的每个元素，依次应用function的方法（函数）（这本质上就是一个for循环）。\n",
    "\n",
    "将所有结果返回一个list。\n",
    "\n",
    "如果参数很多，则对那些参数并行执行function。"
   ]
  },
  {
   "cell_type": "code",
   "execution_count": 107,
   "metadata": {},
   "outputs": [
    {
     "output_type": "execute_result",
     "data": {
      "text/plain": "[14, 17, 20, 15, 6]"
     },
     "metadata": {},
     "execution_count": 107
    }
   ],
   "source": [
    "lst1 = [1,2,3,4,5]\n",
    "lst2 = [6,7,8,9,0]\n",
    "lst3 = [7,8,9,2,1]\n",
    "list(map(lambda x,y,z: x+y+z, lst1,lst2,lst3))"
   ]
  },
  {
   "cell_type": "code",
   "execution_count": 109,
   "metadata": {},
   "outputs": [
    {
     "output_type": "execute_result",
     "data": {
      "text/plain": "15"
     },
     "metadata": {},
     "execution_count": 109
    }
   ],
   "source": [
    "from functools import reduce\n",
    "reduce(lambda x,y: x+y,[1,2,3,4,5])\n",
    "#map是上下运算，reduce是横着逐个元素进行运算"
   ]
  },
  {
   "cell_type": "code",
   "execution_count": 115,
   "metadata": {},
   "outputs": [
    {
     "output_type": "execute_result",
     "data": {
      "text/plain": "133"
     },
     "metadata": {},
     "execution_count": 115
    }
   ],
   "source": [
    "a = [3,9,8,5,2]\n",
    "b = [1,4,9,2,6]\n",
    "zip(a,b)\n",
    "sum(x*y for x,y in zip(a,b))#zip还是不怎么理解\n",
    "\n",
    "new_list = [x*y for x,y in zip(a,b)]\n",
    "sum(new_list)"
   ]
  },
  {
   "cell_type": "code",
   "execution_count": 118,
   "metadata": {},
   "outputs": [],
   "source": [
    "#reduce(lambda sum,(x,y): sum+x*y,zip(a,b),0)\n",
    "#Mark"
   ]
  },
  {
   "cell_type": "code",
   "execution_count": 120,
   "metadata": {},
   "outputs": [
    {
     "output_type": "execute_result",
     "data": {
      "text/plain": "[1, 2, 3, 4]"
     },
     "metadata": {},
     "execution_count": 120
    }
   ],
   "source": [
    "numbers = range(-5,5)\n",
    "after_filter = filter(lambda x: x>0, numbers)\n",
    "list(after_filter)"
   ]
  },
  {
   "cell_type": "code",
   "execution_count": 124,
   "metadata": {},
   "outputs": [
    {
     "output_type": "execute_result",
     "data": {
      "text/plain": "['q', 'w', 'e', 'r', 't', 'u', 'p', 't', 'e', 'f', 'a']"
     },
     "metadata": {},
     "execution_count": 124
    }
   ],
   "source": [
    "list(filter(lambda c: c!='i', \"qwertupiteifaiiiii\"))"
   ]
  }
 ],
 "metadata": {
  "language_info": {
   "codemirror_mode": {
    "name": "ipython",
    "version": 3
   },
   "file_extension": ".py",
   "mimetype": "text/x-python",
   "name": "python",
   "nbconvert_exporter": "python",
   "pygments_lexer": "ipython3",
   "version": "3.7.7-final"
  },
  "orig_nbformat": 2,
  "kernelspec": {
   "name": "python3",
   "display_name": "Python 3"
  }
 },
 "nbformat": 4,
 "nbformat_minor": 2
}