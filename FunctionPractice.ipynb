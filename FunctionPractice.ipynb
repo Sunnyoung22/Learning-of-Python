{
 "cells": [
  {
   "cell_type": "markdown",
   "metadata": {},
   "source": [
    "# Practice using functions"
   ]
  },
  {
   "cell_type": "markdown",
   "metadata": {},
   "source": [
    "## Practice 1"
   ]
  },
  {
   "cell_type": "code",
   "execution_count": 12,
   "metadata": {
    "tags": []
   },
   "outputs": [
    {
     "output_type": "stream",
     "name": "stdout",
     "text": "A quadratic equation: x^2 + 2x + 1 = 0\nThe result is: (-0.875, -1.125)\n"
    }
   ],
   "source": [
    "#Sunnyoung  2020.07.08\n",
    "\"\"\"\n",
    "Solving a uadratic equation\n",
    "\"\"\"\n",
    "import math\n",
    "\n",
    "def quadratic_equation(a,b,c):\n",
    "    if a==0:\n",
    "        print(\"The first coefficient can't be zero，please check your input\")\n",
    "        root = -c/b\n",
    "        return False\n",
    "    else:\n",
    "        delta = b** - 4*a*c\n",
    "        if delta<0:\n",
    "            return False\n",
    "        elif delta==0:\n",
    "            return -(b/2*a)\n",
    "        else:\n",
    "            x1 = (-b+math.sqrt(delta))/(2*a)\n",
    "            x2 = (-b-math.sqrt(delta))/(2*a)\n",
    "            return x1,x2\n",
    "if __name__ == \"__main__\":\n",
    "    print(\"A quadratic equation: x^2 + 2x + 1 = 0\")\n",
    "    coefficients = (1,2,1)\n",
    "    roots = quadratic_equation(*coefficients)\n",
    "    if roots:\n",
    "        print(\"The result is:\",roots)\n",
    "    else:\n",
    "        print(\"This equation has no solution.\")"
   ]
  },
  {
   "cell_type": "markdown",
   "metadata": {},
   "source": [
    "## Practice 2"
   ]
  },
  {
   "cell_type": "code",
   "execution_count": 31,
   "metadata": {
    "tags": []
   },
   "outputs": [
    {
     "output_type": "stream",
     "name": "stdout",
     "text": "The average score is:  80.22222222222223\nList of the scores:  [('facebook', 99), ('apple', 99), ('amazon', 99), ('google', 98), ('alibaba', 80), ('android', 76), ('IBM', 70), ('baidu', 52), ('yahoo', 49)]\nXueba is: [('facebook', 99), ('apple', 99), ('amazon', 99)]\nXuezha is: [('yahoo', 49)]\n"
    }
   ],
   "source": [
    "# Sunnyoung 2020.07.08\n",
    "\"\"\"\n",
    "Analysis of test scores\n",
    "\"\"\"\n",
    "\n",
    "def average_score(scores):\n",
    "    \"\"\"\n",
    "    Average\n",
    "    \"\"\"\n",
    "    score_values = scores.values()\n",
    "    sum_scores = sum(score_values)\n",
    "    average = sum_scores/len(score_values)\n",
    "    return average\n",
    "\n",
    "def sorted_score(scores):\n",
    "    \"\"\"\n",
    "    Descending\n",
    "    \"\"\"\n",
    "    score_lst = [(scores[k],k) for k in scores]\n",
    "    sort_lst = sorted(score_lst, reverse=True)\n",
    "    return [(i[1], i[0]) for i in sort_lst]\n",
    "\n",
    "def max_score(scores):\n",
    "    \"\"\"\n",
    "    Max\n",
    "    \"\"\"\n",
    "    lst = sorted_score(scores)#引用分数排序的函数 sorted_score\n",
    "    max_score = lst[0][1]\n",
    "    return [(i[0],i[1]) for i in lst if i[1]==max_score]\n",
    "\n",
    "def min_score(scores):\n",
    "    \"\"\"\n",
    "    Min\n",
    "    \"\"\"\n",
    "    lst = sorted_score(scores)\n",
    "    min_score = lst[len(lst)-1][1]\n",
    "    return [(i[0],i[1]) for i in lst if i[1]==min_score]\n",
    "\n",
    "if __name__ == \"__main__\":\n",
    "    examine_scores = {\"google\":98, \"facebook\":99, \"baidu\":52, \"alibaba\":80, \"yahoo\":49, \"IBM\":70, \"android\":76, \"apple\":99, \"amazon\":99}\n",
    "\n",
    "    ave = average_score(examine_scores)\n",
    "    print(\"The average score is: \",ave)\n",
    "\n",
    "    sor = sorted_score(examine_scores)\n",
    "    print(\"List of the scores: \",sor)\n",
    "\n",
    "    xueba = max_score(examine_scores)\n",
    "    print(\"Xueba is:\",xueba)       \n",
    "    xuezha = min_score(examine_scores)\n",
    "    print(\"Xuezha is:\",xuezha)"
   ]
  },
  {
   "cell_type": "markdown",
   "metadata": {},
   "source": [
    "## Practice 3"
   ]
  },
  {
   "cell_type": "code",
   "execution_count": 80,
   "metadata": {
    "tags": []
   },
   "outputs": [
    {
     "output_type": "stream",
     "name": "stdout",
     "text": "[2, 3, 5, 7, 11, 13, 17, 19, 23, 29, 31, 37, 41, 43, 47, 53, 59, 61, 67, 71, 73, 79, 83, 89, 97]\n"
    }
   ],
   "source": [
    "# Sunnyoung 2020.07.08\n",
    "\n",
    "def is_prime_number(n):\n",
    "    \"\"\"\n",
    "    判断这个数是不是素数\n",
    "    \"\"\"\n",
    "    if n <= 1:\n",
    "        print(\"Prime number should be large than 1, please check your input\")\n",
    "        return False\n",
    "    elif n == 2:\n",
    "        return True\n",
    "    else:\n",
    "        \"\"\"\n",
    "        for i in range(2,n):\n",
    "            if n % i == 0:\n",
    "                break   #如果发现中间可以被整除，中断循环\n",
    "        if i==n-1:      #若循环到最后没有被break说明是素数，即循环次数为n-1次\n",
    "            return True\n",
    "        else:\n",
    "            return False\n",
    "        \"\"\"\n",
    "        for i in range(2,n):\n",
    "            if n % i == 0:\n",
    "                return False\n",
    "        return True\n",
    "\n",
    "if __name__ == \"__main__\":\n",
    "    primes = [i for i in range(2,100) if is_prime_number(i)] \n",
    "    print(primes)"
   ]
  },
  {
   "cell_type": "code",
   "execution_count": 85,
   "metadata": {
    "tags": []
   },
   "outputs": [
    {
     "output_type": "stream",
     "name": "stdout",
     "text": "[2, 3, 5, 7, 11, 13, 17, 19, 23, 29, 31, 37, 41, 43, 47, 53, 59, 61, 67, 71, 73, 79, 83, 89, 97, 101, 103, 107, 109, 113, 127, 131, 137, 139, 149, 151, 157, 163, 167, 173, 179, 181, 191, 193, 197, 199]\n"
    }
   ],
   "source": [
    "result = []\n",
    "for i in range(2,200):\n",
    "    if is_prime_number(i):\n",
    "        result.append(i)\n",
    "print(result)"
   ]
  }
 ],
 "metadata": {
  "language_info": {
   "codemirror_mode": {
    "name": "ipython",
    "version": 3
   },
   "file_extension": ".py",
   "mimetype": "text/x-python",
   "name": "python",
   "nbconvert_exporter": "python",
   "pygments_lexer": "ipython3",
   "version": "3.7.7-final"
  },
  "orig_nbformat": 2,
  "kernelspec": {
   "name": "python3",
   "display_name": "Python 3"
  }
 },
 "nbformat": 4,
 "nbformat_minor": 2
}