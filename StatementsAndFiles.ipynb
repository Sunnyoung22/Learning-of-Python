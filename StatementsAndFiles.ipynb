{
 "cells": [
  {
   "cell_type": "markdown",
   "metadata": {},
   "source": [
    "# Statements And Files\n",
    "## Operator"
   ]
  },
  {
   "cell_type": "code",
   "execution_count": 6,
   "metadata": {},
   "outputs": [
    {
     "output_type": "execute_result",
     "data": {
      "text/plain": "True"
     },
     "metadata": {},
     "execution_count": 6
    }
   ],
   "source": [
    "a = 10\n",
    "b = 20\n",
    "a > b\n",
    "a <= b"
   ]
  },
  {
   "cell_type": "code",
   "execution_count": 4,
   "metadata": {},
   "outputs": [
    {
     "output_type": "execute_result",
     "data": {
      "text/plain": "True"
     },
     "metadata": {},
     "execution_count": 4
    }
   ],
   "source": [
    "a = \"abcde\"\n",
    "b = \"Python\"\n",
    "a > b"
   ]
  },
  {
   "cell_type": "code",
   "execution_count": 7,
   "metadata": {},
   "outputs": [
    {
     "output_type": "execute_result",
     "data": {
      "text/plain": "True"
     },
     "metadata": {},
     "execution_count": 7
    }
   ],
   "source": [
    "4>3 and 3<5"
   ]
  },
  {
   "cell_type": "code",
   "execution_count": 8,
   "metadata": {},
   "outputs": [
    {
     "output_type": "execute_result",
     "data": {
      "text/plain": "True"
     },
     "metadata": {},
     "execution_count": 8
    }
   ],
   "source": [
    "1<3 or 4<7"
   ]
  },
  {
   "cell_type": "markdown",
   "metadata": {},
   "source": [
    "## Statement"
   ]
  },
  {
   "cell_type": "code",
   "execution_count": 10,
   "metadata": {
    "tags": []
   },
   "outputs": [
    {
     "output_type": "stream",
     "name": "stdout",
     "text": "Hello,world\n"
    }
   ],
   "source": [
    "print(\"Hello,world\")"
   ]
  },
  {
   "cell_type": "code",
   "execution_count": 11,
   "metadata": {
    "tags": []
   },
   "outputs": [
    {
     "output_type": "stream",
     "name": "stdout",
     "text": "Hello World\n"
    }
   ],
   "source": [
    "print(\"Hello\",\"World\")"
   ]
  },
  {
   "cell_type": "code",
   "execution_count": 15,
   "metadata": {
    "tags": []
   },
   "outputs": [
    {
     "output_type": "stream",
     "name": "stdout",
     "text": "1\n2\n3\n4\n5\n"
    }
   ],
   "source": [
    "for i in [1,2,3,4,5]:\n",
    "    print(i)"
   ]
  },
  {
   "cell_type": "code",
   "execution_count": 22,
   "metadata": {
    "tags": []
   },
   "outputs": [
    {
     "output_type": "stream",
     "name": "stdout",
     "text": "12345"
    }
   ],
   "source": [
    "for i in [1,2,3,4,5]:\n",
    "    print(i,end=\"\")#Python3.x中print不换行的方式"
   ]
  },
  {
   "cell_type": "code",
   "execution_count": 24,
   "metadata": {},
   "outputs": [
    {
     "output_type": "execute_result",
     "data": {
      "text/plain": "9.0"
     },
     "metadata": {},
     "execution_count": 24
    }
   ],
   "source": [
    "import math\n",
    "math.pow(3,2)"
   ]
  },
  {
   "cell_type": "code",
   "execution_count": 26,
   "metadata": {},
   "outputs": [
    {
     "output_type": "execute_result",
     "data": {
      "text/plain": "9.0"
     },
     "metadata": {},
     "execution_count": 26
    }
   ],
   "source": [
    "from math import pow\n",
    "pow(3,2)"
   ]
  },
  {
   "cell_type": "code",
   "execution_count": 27,
   "metadata": {},
   "outputs": [
    {
     "output_type": "execute_result",
     "data": {
      "text/plain": "9.0"
     },
     "metadata": {},
     "execution_count": 27
    }
   ],
   "source": [
    "from math import pow as pingfang\n",
    "pingfang(3,2)"
   ]
  },
  {
   "cell_type": "code",
   "execution_count": 28,
   "metadata": {},
   "outputs": [
    {
     "output_type": "execute_result",
     "data": {
      "text/plain": "23.140692632779263"
     },
     "metadata": {},
     "execution_count": 28
    }
   ],
   "source": [
    "from math import pow,e,pi\n",
    "pow(e,pi)"
   ]
  },
  {
   "cell_type": "code",
   "execution_count": 32,
   "metadata": {},
   "outputs": [
    {
     "output_type": "execute_result",
     "data": {
      "text/plain": "1"
     },
     "metadata": {},
     "execution_count": 32
    }
   ],
   "source": [
    "x, y, z = 1, \"Python\", [\"HELLO\",\"WORLD\"]\n",
    "x"
   ]
  },
  {
   "cell_type": "code",
   "execution_count": 33,
   "metadata": {},
   "outputs": [
    {
     "output_type": "execute_result",
     "data": {
      "text/plain": "('12345', 'Python')"
     },
     "metadata": {},
     "execution_count": 33
    }
   ],
   "source": [
    "a = \"12345\",\"Python\"\n",
    "a"
   ]
  },
  {
   "cell_type": "code",
   "execution_count": 35,
   "metadata": {
    "tags": []
   },
   "outputs": [
    {
     "output_type": "stream",
     "name": "stdout",
     "text": "9\n2\n"
    }
   ],
   "source": [
    "a = 2\n",
    "b = 9\n",
    "a, b = b, a\n",
    "print(a)\n",
    "print(b)"
   ]
  },
  {
   "cell_type": "code",
   "execution_count": 38,
   "metadata": {},
   "outputs": [
    {
     "output_type": "execute_result",
     "data": {
      "text/plain": "['1', 1]"
     },
     "metadata": {},
     "execution_count": 38
    }
   ],
   "source": [
    "m = n = ['1',1]\n",
    "m"
   ]
  },
  {
   "cell_type": "code",
   "execution_count": 39,
   "metadata": {},
   "outputs": [
    {
     "output_type": "execute_result",
     "data": {
      "text/plain": "True"
     },
     "metadata": {},
     "execution_count": 39
    }
   ],
   "source": [
    "m is n"
   ]
  },
  {
   "cell_type": "code",
   "execution_count": 40,
   "metadata": {
    "tags": []
   },
   "outputs": [
    {
     "output_type": "stream",
     "name": "stdout",
     "text": "11\n"
    }
   ],
   "source": [
    "x = 10\n",
    "x += 1\n",
    "print(x)"
   ]
  },
  {
   "cell_type": "code",
   "execution_count": 41,
   "metadata": {},
   "outputs": [
    {
     "output_type": "execute_result",
     "data": {
      "text/plain": "'Pyth'"
     },
     "metadata": {},
     "execution_count": 41
    }
   ],
   "source": [
    "m = \"Py\"\n",
    "m += \"th\"\n",
    "m"
   ]
  },
  {
   "cell_type": "code",
   "execution_count": 42,
   "metadata": {
    "tags": []
   },
   "outputs": [
    {
     "output_type": "stream",
     "name": "stdout",
     "text": "8\n"
    }
   ],
   "source": [
    "a = 8\n",
    "if a == 8:\n",
    "    print(a)"
   ]
  },
  {
   "cell_type": "code",
   "execution_count": 44,
   "metadata": {
    "tags": []
   },
   "outputs": [
    {
     "output_type": "stream",
     "name": "stdout",
     "text": "您输入的数字是:10\nHaha\n"
    }
   ],
   "source": [
    "#coding:utf-8\n",
    "#Sunnyoung  2020.07.07\n",
    "\n",
    "#print(\"请输入任意一个整数数字\")\n",
    "number=int(input(\"请输入任意一个整数数字\"))\n",
    "\n",
    "if number == 10:\n",
    "    print(\"您输入的数字是:%d\"%number)\n",
    "    print(\"Haha\")\n",
    "elif number > 10:\n",
    "    print(\"您输入的数字是:%d\"%number)\n",
    "    print(\"This number is more than 10.\")\n",
    "elif number < 10:\n",
    "    print(\"您输入的数字是:%d\"%number)\n",
    "    print(\"This number is less than 10.\")\n",
    "else:\n",
    "    print(\"Are U a human?\")"
   ]
  },
  {
   "cell_type": "code",
   "execution_count": 48,
   "metadata": {
    "tags": []
   },
   "outputs": [
    {
     "output_type": "stream",
     "name": "stdout",
     "text": "xyz\nPython\n"
    }
   ],
   "source": [
    "x = 2\n",
    "y = 9\n",
    "a = \"Python\" if x > y else \"xyz\"\n",
    "print(a)\n",
    "b = \"Python\" if x < y else \"xyz\"\n",
    "print(b)"
   ]
  },
  {
   "cell_type": "code",
   "execution_count": 50,
   "metadata": {
    "tags": []
   },
   "outputs": [
    {
     "output_type": "stream",
     "name": "stdout",
     "text": "World"
    }
   ],
   "source": [
    "hello = \"World\"\n",
    "for i in hello:\n",
    "    print(i,end=\"\")"
   ]
  },
  {
   "cell_type": "code",
   "execution_count": 53,
   "metadata": {
    "tags": []
   },
   "outputs": [
    {
     "output_type": "stream",
     "name": "stdout",
     "text": "W\no\nr\nl\nd\n"
    }
   ],
   "source": [
    "for i in range(len(hello)):\n",
    "    print(hello[i])"
   ]
  },
  {
   "cell_type": "code",
   "execution_count": 59,
   "metadata": {
    "tags": []
   },
   "outputs": [
    {
     "output_type": "stream",
     "name": "stdout",
     "text": "Hello\nI am Sunnyoung\nWelcome U\nHello\nI am Sunnyoung\nWelcome U\n"
    }
   ],
   "source": [
    "ls_line = [\"Hello\",\"I am Sunnyoung\",\"Welcome U\"]\n",
    "for word in ls_line:\n",
    "    print(word)\n",
    "for i in range(len(ls_line)):\n",
    "    print(ls_line[i])"
   ]
  },
  {
   "cell_type": "code",
   "execution_count": 62,
   "metadata": {},
   "outputs": [
    {
     "output_type": "execute_result",
     "data": {
      "text/plain": "range(1, 9, 2)"
     },
     "metadata": {},
     "execution_count": 62
    }
   ],
   "source": [
    "range(9)\n",
    "range(0,9)\n",
    "range(1,9,2)"
   ]
  },
  {
   "cell_type": "code",
   "execution_count": 66,
   "metadata": {
    "tags": []
   },
   "outputs": [
    {
     "output_type": "execute_result",
     "data": {
      "text/plain": "[0, 1, 2, 3, 4, 5, 6, 7, 8]"
     },
     "metadata": {},
     "execution_count": 66
    }
   ],
   "source": [
    "list(range(9))"
   ]
  },
  {
   "cell_type": "code",
   "execution_count": 67,
   "metadata": {},
   "outputs": [
    {
     "output_type": "execute_result",
     "data": {
      "text/plain": "[0, -1, -2, -3, -4, -5, -6, -7, -8]"
     },
     "metadata": {},
     "execution_count": 67
    }
   ],
   "source": [
    "list(range(0,-9,-1))"
   ]
  },
  {
   "cell_type": "code",
   "execution_count": 70,
   "metadata": {},
   "outputs": [],
   "source": [
    "#list(range(0,100,2))"
   ]
  },
  {
   "cell_type": "code",
   "execution_count": 72,
   "metadata": {
    "tags": []
   },
   "outputs": [
    {
     "output_type": "stream",
     "name": "stdout",
     "text": "[0, 3, 6, 9, 12, 15, 18, 21, 24, 27, 30, 33, 36, 39, 42, 45, 48, 51, 54, 57, 60, 63, 66, 69, 72, 75, 78, 81, 84, 87, 90, 93, 96, 99]\n"
    }
   ],
   "source": [
    "x = []\n",
    "for n in range(0,100):\n",
    "    if n%3==0:\n",
    "        x.append(n)\n",
    "print(x)"
   ]
  },
  {
   "cell_type": "markdown",
   "metadata": {},
   "source": [
    "所有的序列类型对象，都能够用for来循环"
   ]
  },
  {
   "cell_type": "code",
   "execution_count": 80,
   "metadata": {
    "tags": []
   },
   "outputs": [
    {
     "output_type": "stream",
     "name": "stdout",
     "text": "SunnyoungSunnyounggSuoynSunnyoungname --> xyz\nlang --> Python\n"
    }
   ],
   "source": [
    "name_str = \"Sunnyoung\"\n",
    "for i in name_str:\n",
    "    print(i,end=\"\")\n",
    "name_list = list(name_str)\n",
    "for i in name_list:\n",
    "    print(i,end=\"\")\n",
    "name_set = set(name_str)\n",
    "for i in name_set:\n",
    "    print(i,end=\"\")\n",
    "name_tuple = tuple(name_str)\n",
    "for i in name_tuple:\n",
    "    print(i,end=\"\")\n",
    "name_dict={\"name\":\"xyz\",\"lang\":\"Python\"}\n",
    "for i in name_dict:\n",
    "    print(i,\"-->\",name_dict[i])"
   ]
  },
  {
   "cell_type": "code",
   "execution_count": 81,
   "metadata": {
    "tags": []
   },
   "outputs": [
    {
     "output_type": "stream",
     "name": "stdout",
     "text": "name qiwsir\nlang python\nemail qiwsir@gmail.com\nwebsite www.itdiffer.com\n"
    }
   ],
   "source": [
    "a_dict = {\"name\":\"qiwsir\", \"lang\":\"python\", \"email\":\"qiwsir@gmail.com\", \"website\":\"www.itdiffer.com\"}\n",
    "for k in a_dict.keys():\n",
    "    print(k,a_dict[k])"
   ]
  },
  {
   "cell_type": "code",
   "execution_count": 83,
   "metadata": {
    "tags": []
   },
   "outputs": [
    {
     "output_type": "stream",
     "name": "stdout",
     "text": "qiwsir\npython\nqiwsir@gmail.com\nwww.itdiffer.com\n"
    }
   ],
   "source": [
    "for v in a_dict.values():\n",
    "    print(v)"
   ]
  },
  {
   "cell_type": "code",
   "execution_count": 84,
   "metadata": {
    "tags": []
   },
   "outputs": [
    {
     "output_type": "stream",
     "name": "stdout",
     "text": "[10, 10, 10, 10, 10]\n"
    }
   ],
   "source": [
    "a = [1,2,3,4,5]\n",
    "b = [9,8,7,6,5]\n",
    "c = []\n",
    "for i in range(len(a)):\n",
    "    c.append(a[i]+b[i])\n",
    "print(c)"
   ]
  },
  {
   "cell_type": "code",
   "execution_count": 100,
   "metadata": {},
   "outputs": [
    {
     "output_type": "execute_result",
     "data": {
      "text/plain": "[(1, 'python'), (2, 'www.itdiffer.com'), (3, 'qiwsir')]"
     },
     "metadata": {},
     "execution_count": 100
    }
   ],
   "source": [
    "list(zip(a,b))"
   ]
  },
  {
   "cell_type": "code",
   "execution_count": 101,
   "metadata": {},
   "outputs": [
    {
     "output_type": "execute_result",
     "data": {
      "text/plain": "[(1, 9), (2, 8), (3, 7)]"
     },
     "metadata": {},
     "execution_count": 101
    }
   ],
   "source": [
    "c = [1,2,3]\n",
    "d = [9,8,7,6]\n",
    "list(zip(c,d))"
   ]
  },
  {
   "cell_type": "code",
   "execution_count": 99,
   "metadata": {},
   "outputs": [
    {
     "output_type": "execute_result",
     "data": {
      "text/plain": "[('name', 'lang')]"
     },
     "metadata": {},
     "execution_count": 99
    }
   ],
   "source": [
    "s = {\"name\":\"qiwsir\"}\n",
    "t = {\"lang\":\"python\"}\n",
    "list(zip(s,t))"
   ]
  },
  {
   "cell_type": "code",
   "execution_count": 89,
   "metadata": {},
   "outputs": [
    {
     "output_type": "execute_result",
     "data": {
      "text/plain": "[10, 10, 10, 10, 10]"
     },
     "metadata": {},
     "execution_count": 89
    }
   ],
   "source": [
    "d = []\n",
    "for x,y in zip(a,b):\n",
    "    d.append(x+y)\n",
    "d"
   ]
  },
  {
   "cell_type": "code",
   "execution_count": 91,
   "metadata": {},
   "outputs": [
    {
     "output_type": "execute_result",
     "data": {
      "text/plain": "[1, 2, 3, '1:python', '2:www.itdiffer.com', '3:qiwsir']"
     },
     "metadata": {},
     "execution_count": 91
    }
   ],
   "source": [
    "a = [1,2,3,4,5]\n",
    "b = [\"python\",\"www.itdiffer.com\",\"qiwsir\"]\n",
    "length = len(a) if len(a)<len(b) else len(b)\n",
    "for i in range(length):\n",
    "    c.append(str(a[i])+\":\"+b[i])\n",
    "c"
   ]
  },
  {
   "cell_type": "code",
   "execution_count": 92,
   "metadata": {},
   "outputs": [
    {
     "output_type": "execute_result",
     "data": {
      "text/plain": "[10, 10, 10, 10, 10, '1:python', '2:www.itdiffer.com', '3:qiwsir']"
     },
     "metadata": {},
     "execution_count": 92
    }
   ],
   "source": [
    "for x,y in zip(a,b):\n",
    "    d.append(str(x) + \":\" + y)\n",
    "d"
   ]
  },
  {
   "cell_type": "code",
   "execution_count": 95,
   "metadata": {},
   "outputs": [
    {
     "output_type": "execute_result",
     "data": {
      "text/plain": "{'qiwsir': 'name', 'qiwsir.github.io': 'site', 'python': 'lang'}"
     },
     "metadata": {},
     "execution_count": 95
    }
   ],
   "source": [
    "myinfor = {\"name\":\"qiwsir\",\"site\":\"qiwsir.github.io\",\"lang\":\"python\"}\n",
    "infor = {}\n",
    "for k,v in myinfor.items():\n",
    "    infor[v] = k\n",
    "infor"
   ]
  },
  {
   "cell_type": "code",
   "execution_count": 96,
   "metadata": {},
   "outputs": [
    {
     "output_type": "execute_result",
     "data": {
      "text/plain": "{'qiwsir': 'name', 'qiwsir.github.io': 'site', 'python': 'lang'}"
     },
     "metadata": {},
     "execution_count": 96
    }
   ],
   "source": [
    "dict(zip(myinfor.values(),myinfor.keys()))"
   ]
  },
  {
   "cell_type": "code",
   "execution_count": 107,
   "metadata": {},
   "outputs": [
    {
     "output_type": "execute_result",
     "data": {
      "text/plain": "{'qiwsir': 'name', 'qiwsir.github.io': 'site', 'python': 'lang'}"
     },
     "metadata": {},
     "execution_count": 107
    }
   ],
   "source": [
    "myinfor.values()\n",
    "myinfor.keys()\n",
    "temp = zip(myinfor.values(),myinfor.keys())\n",
    "#list(temp)\n",
    "dict(temp)"
   ]
  },
  {
   "cell_type": "code",
   "execution_count": 111,
   "metadata": {
    "tags": []
   },
   "outputs": [
    {
     "output_type": "stream",
     "name": "stdout",
     "text": "monday is 0\nsunday is 1\nfriday is 2\n"
    }
   ],
   "source": [
    "week = [\"monday\",\"sunday\",\"friday\"]\n",
    "for i in range(len(week)):\n",
    "    print(week[i] + \" is \" + str(i))"
   ]
  },
  {
   "cell_type": "code",
   "execution_count": 113,
   "metadata": {
    "tags": []
   },
   "outputs": [
    {
     "output_type": "stream",
     "name": "stdout",
     "text": "monday is 0\nsunday is 1\nfriday is 2\n"
    }
   ],
   "source": [
    "for (i,day) in enumerate(week):\n",
    "    print(day+' is '+str(i))"
   ]
  },
  {
   "cell_type": "code",
   "execution_count": 114,
   "metadata": {},
   "outputs": [
    {
     "output_type": "execute_result",
     "data": {
      "text/plain": "[(0, 'Spring'), (1, 'Summer'), (2, 'Fall'), (3, 'Winter')]"
     },
     "metadata": {},
     "execution_count": 114
    }
   ],
   "source": [
    "seasons = ['Spring', 'Summer', 'Fall', 'Winter']\n",
    "list(enumerate(seasons))"
   ]
  },
  {
   "cell_type": "code",
   "execution_count": 115,
   "metadata": {},
   "outputs": [
    {
     "output_type": "execute_result",
     "data": {
      "text/plain": "[(1, 'Spring'), (2, 'Summer'), (3, 'Fall'), (4, 'Winter')]"
     },
     "metadata": {},
     "execution_count": 115
    }
   ],
   "source": [
    "list(enumerate(seasons, start=1))\n",
    "[(1, 'Spring'), (2, 'Summer'), (3, 'Fall'), (4, 'Winter')]"
   ]
  },
  {
   "cell_type": "code",
   "execution_count": 117,
   "metadata": {},
   "outputs": [
    {
     "output_type": "execute_result",
     "data": {
      "text/plain": "[(0, 'xyz'), (1, 'Python'), (2, 123)]"
     },
     "metadata": {},
     "execution_count": 117
    }
   ],
   "source": [
    "mylist = [\"xyz\",\"Python\",123]\n",
    "enumerate(mylist)\n",
    "list(enumerate(mylist))"
   ]
  },
  {
   "cell_type": "code",
   "execution_count": 129,
   "metadata": {},
   "outputs": [
    {
     "output_type": "execute_result",
     "data": {
      "text/plain": "['Do',\n 'you',\n 'love',\n 'Canglaoshi?',\n 'Canglaoshi',\n 'is',\n 'a',\n 'good',\n 'teacher.']"
     },
     "metadata": {},
     "execution_count": 129
    }
   ],
   "source": [
    "raw = \"Do you love Canglaoshi? Canglaoshi is a good teacher.\"\n",
    "#raw_lst = list(raw)\n",
    "raw_lst = raw.split(\" \")\n",
    "raw_lst"
   ]
  },
  {
   "cell_type": "code",
   "execution_count": 130,
   "metadata": {},
   "outputs": [
    {
     "output_type": "execute_result",
     "data": {
      "text/plain": "['Do', 'you', 'love', 'PHP', 'PHP', 'is', 'a', 'good', 'teacher.']"
     },
     "metadata": {},
     "execution_count": 130
    }
   ],
   "source": [
    "for i, string in enumerate(raw_lst):\n",
    "    #if string == \"Canglaoshi\":\n",
    "    if \"Canglaoshi\" in string:\n",
    "        raw_lst[i] = \"PHP\"\n",
    "raw_lst"
   ]
  },
  {
   "cell_type": "code",
   "execution_count": 131,
   "metadata": {},
   "outputs": [
    {
     "output_type": "execute_result",
     "data": {
      "text/plain": "[1, 4, 9, 16, 25, 36, 49, 64, 81]"
     },
     "metadata": {},
     "execution_count": 131
    }
   ],
   "source": [
    "power2 = []\n",
    "for i in range(1,10):\n",
    "    power2.append(i*i)\n",
    "power2"
   ]
  },
  {
   "cell_type": "code",
   "execution_count": 133,
   "metadata": {},
   "outputs": [
    {
     "output_type": "execute_result",
     "data": {
      "text/plain": "[1, 4, 9, 16, 25, 36, 49, 64, 81]"
     },
     "metadata": {},
     "execution_count": 133
    }
   ],
   "source": [
    "squares = [x**2 for x in range(1,10)]\n",
    "squares"
   ]
  },
  {
   "cell_type": "code",
   "execution_count": 134,
   "metadata": {},
   "outputs": [
    {
     "output_type": "execute_result",
     "data": {
      "text/plain": "['glass', 'apple', 'green leaf']"
     },
     "metadata": {},
     "execution_count": 134
    }
   ],
   "source": [
    "mybag = [' glass',' apple','green leaf ']\n",
    "[one.strip() for one in mybag] "
   ]
  },
  {
   "cell_type": "code",
   "execution_count": 156,
   "metadata": {
    "tags": []
   },
   "outputs": [
    {
     "output_type": "stream",
     "name": "stdout",
     "text": "********************************\n您猜大了!\n 您还有5次机会！\n********************************\n您猜大了!\n 您还有4次机会！\n********************************\n您猜小了!\n 您还有3次机会！\n********************************\n您猜小了!\n 您还有2次机会！\n********************************\n您猜小了!\n 您还有1次机会！\n********************************\n很可惜，机会用尽!\n正确答案是:46\n"
    }
   ],
   "source": [
    "#coding:UTF-8\n",
    "#Sunnyoung  2020.07.07\n",
    "\n",
    "import random\n",
    "guess=0\n",
    "xnum = random.randint(0,100)\n",
    "print(\"********************************\")\n",
    "while guess < 7:\n",
    "    num = input(\"请您输入0到100之间的任一个数：\")\n",
    "    if not num.isdigit():\n",
    "        print(\"Please input interger.\")\n",
    "        continue\n",
    "    elif int(num)<0 or int(num)>100:\n",
    "        print(\"The number should be in 1 to 100.\")\n",
    "        continue\n",
    "    else:\n",
    "        num = int(num)\n",
    "        x = 6 - guess#机会数\n",
    "        if x == 0 and num !=xnum:\n",
    "            print(\"很可惜，机会用尽!\\n正确答案是:{}\".format(xnum))\n",
    "            break\n",
    "        if num == xnum:\n",
    "            print(\"运气真好，您猜对了！\\n\")\n",
    "            print(\"********************************\")\n",
    "            break\n",
    "        elif num > xnum:\n",
    "            print(\"您猜大了!\\n 您还有%d次机会！\"%(x))\n",
    "        elif num < xnum:\n",
    "            print(\"您猜小了!\\n 您还有%d次机会！\"%(x))\n",
    "        print(\"********************************\")\n",
    "        guess += 1"
   ]
  },
  {
   "cell_type": "code",
   "execution_count": 157,
   "metadata": {
    "tags": []
   },
   "outputs": [
    {
     "output_type": "stream",
     "name": "stdout",
     "text": "8 is even number\n"
    }
   ],
   "source": [
    "#coding:utf-8\n",
    "#Sunnyoung 2020.07.07\n",
    "a = 8\n",
    "while a:\n",
    "    if a%2 == 0:\n",
    "        break\n",
    "    else:\n",
    "        print(\"%d is odd number\"%a)\n",
    "        a = 0 \n",
    "print(\"%d is even number\"%a)"
   ]
  },
  {
   "cell_type": "code",
   "execution_count": 158,
   "metadata": {
    "tags": []
   },
   "outputs": [
    {
     "output_type": "stream",
     "name": "stdout",
     "text": "9 is odd number\n7 is odd number\n5 is odd number\n3 is odd number\n1 is odd number\n"
    }
   ],
   "source": [
    "#coding:utf-8\n",
    "a = 9\n",
    "while a:\n",
    "    if a%2==0:\n",
    "        a -=1\n",
    "        continue    #如果是偶数，就返回循环的开始\n",
    "    else:\n",
    "        print(\"%d is odd number\"%a) #如果是奇数，就打印出来\n",
    "        a -=1"
   ]
  },
  {
   "cell_type": "code",
   "execution_count": 159,
   "metadata": {
    "tags": []
   },
   "outputs": [
    {
     "output_type": "stream",
     "name": "stdout",
     "text": "0  is  less than 5\n1  is  less than 5\n2  is  less than 5\n3  is  less than 5\n4  is  less than 5\n5  is not less than 5\n"
    }
   ],
   "source": [
    "count = 0\n",
    "while count < 5:\n",
    "    print(count, \" is  less than 5\")\n",
    "    count = count + 1\n",
    "else:\n",
    "    print(count, \" is not less than 5\")"
   ]
  },
  {
   "cell_type": "code",
   "execution_count": 162,
   "metadata": {
    "tags": []
   },
   "outputs": [
    {
     "output_type": "stream",
     "name": "stdout",
     "text": "81\n"
    }
   ],
   "source": [
    "# coding=utf-8\n",
    "# Sunnyoung  2020.07.07\n",
    "from math import sqrt #从math包导入开平方函数\n",
    "\n",
    "for n in range(99, 1, -1): #99->1 每次减1\n",
    "    root = sqrt(n)\n",
    "    if root == int(root): #寻找99->1之间，最大的被开方为整数的数\n",
    "        print(n)\n",
    "        break\n",
    "else:\n",
    "    print(\"Nothing.\")"
   ]
  },
  {
   "cell_type": "markdown",
   "metadata": {},
   "source": [
    "## File"
   ]
  },
  {
   "cell_type": "code",
   "execution_count": 163,
   "metadata": {},
   "outputs": [],
   "source": [
    "#dir(firle)"
   ]
  },
  {
   "cell_type": "code",
   "execution_count": 165,
   "metadata": {
    "tags": []
   },
   "outputs": [
    {
     "output_type": "stream",
     "name": "stdout",
     "text": "learn python\n\nSunnyoung\n\npfr.sunnyoung@gmail.com\n"
    }
   ],
   "source": [
    "f = open(\"file.txt\")\n",
    "for line in f:\n",
    "    print(line)"
   ]
  },
  {
   "cell_type": "code",
   "execution_count": 166,
   "metadata": {
    "tags": []
   },
   "outputs": [
    {
     "output_type": "stream",
     "name": "stdout",
     "text": "learn python\nSunnyoung\npfr.sunnyoung@gmail.com"
    }
   ],
   "source": [
    "f = open(\"file.txt\")\n",
    "for line in f:\n",
    "    print(line,end=\"\")"
   ]
  },
  {
   "cell_type": "code",
   "execution_count": 167,
   "metadata": {},
   "outputs": [],
   "source": [
    "for line2 in f:\n",
    "    print(line2)"
   ]
  },
  {
   "cell_type": "code",
   "execution_count": 168,
   "metadata": {
    "tags": []
   },
   "outputs": [
    {
     "output_type": "stream",
     "name": "stdout",
     "text": "learn python\nSunnyoung\npfr.sunnyoung@gmail.com"
    }
   ],
   "source": [
    "f = open(\".\\\\file.txt\")\n",
    "for line in f:\n",
    "    print(line,end=\"\")"
   ]
  },
  {
   "cell_type": "code",
   "execution_count": 171,
   "metadata": {},
   "outputs": [
    {
     "output_type": "execute_result",
     "data": {
      "text/plain": "18"
     },
     "metadata": {},
     "execution_count": 171
    }
   ],
   "source": [
    "nf = open(\"newfile.txt\",\"w\")\n",
    "nf.write(\"This is a new file\")"
   ]
  },
  {
   "cell_type": "code",
   "execution_count": 172,
   "metadata": {
    "tags": []
   },
   "outputs": [
    {
     "output_type": "stream",
     "name": "stdout",
     "text": "This is a new file"
    }
   ],
   "source": [
    "f = open(\".\\\\newfile.txt\")\n",
    "for line in f:\n",
    "    print(line,end=\"\")"
   ]
  },
  {
   "cell_type": "code",
   "execution_count": 173,
   "metadata": {},
   "outputs": [
    {
     "output_type": "execute_result",
     "data": {
      "text/plain": "<_io.TextIOWrapper name='newfile.txt' mode='r' encoding='cp936'>"
     },
     "metadata": {},
     "execution_count": 173
    }
   ],
   "source": [
    "f = open(\"newfile.txt\")\n",
    "f"
   ]
  },
  {
   "cell_type": "code",
   "execution_count": 176,
   "metadata": {
    "tags": []
   },
   "outputs": [
    {
     "output_type": "stream",
     "name": "stdout",
     "text": "This is a new file"
    }
   ],
   "source": [
    "fp = open(\"newfile.txt\")\n",
    "for line in fp:\n",
    "    print(line,end=\"\")\n",
    "fp = open(\"newfile.txt\",\"w\")\n",
    "fp.write(\"123456\")\n",
    "fp.close()"
   ]
  },
  {
   "cell_type": "code",
   "execution_count": 178,
   "metadata": {
    "tags": []
   },
   "outputs": [
    {
     "output_type": "stream",
     "name": "stdout",
     "text": "123456"
    }
   ],
   "source": [
    "fp = open(\"newfile.txt\")\n",
    "for line in fp:\n",
    "    print(line,end=\"\")"
   ]
  },
  {
   "cell_type": "code",
   "execution_count": 181,
   "metadata": {
    "tags": []
   },
   "outputs": [
    {
     "output_type": "stream",
     "name": "stdout",
     "text": "123456767868\n767868"
    }
   ],
   "source": [
    "fp = open(\"newfile.txt\",\"a\")\n",
    "fp.write(\"\\n767868\")\n",
    "fp.close\n",
    "fp = open(\"newfile.txt\")\n",
    "for line in fp:\n",
    "    print(line,end=\"\")"
   ]
  },
  {
   "cell_type": "code",
   "execution_count": 182,
   "metadata": {
    "tags": []
   },
   "outputs": [
    {
     "output_type": "stream",
     "name": "stdout",
     "text": "123456767868\n767868\nThis is about 'with...as...'\n"
    }
   ],
   "source": [
    "with open(\"newfile.txt\",\"a\") as f:\n",
    "    f.write(\"\\nThis is about 'with...as...'\")\n",
    "with open(\"newfile.txt\",\"r\") as f:\n",
    "    print(f.read())"
   ]
  },
  {
   "cell_type": "code",
   "execution_count": 183,
   "metadata": {},
   "outputs": [
    {
     "output_type": "execute_result",
     "data": {
      "text/plain": "os.stat_result(st_mode=33206, st_ino=281474976792956, st_dev=604992996, st_nlink=1, st_uid=0, st_gid=0, st_size=56, st_atime=1594126967, st_mtime=1594126967, st_ctime=1594126380)"
     },
     "metadata": {},
     "execution_count": 183
    }
   ],
   "source": [
    "import os\n",
    "file_stat = os.stat(\"newfile.txt\")\n",
    "file_stat"
   ]
  },
  {
   "cell_type": "code",
   "execution_count": 184,
   "metadata": {},
   "outputs": [
    {
     "output_type": "execute_result",
     "data": {
      "text/plain": "1594126380.5037484"
     },
     "metadata": {},
     "execution_count": 184
    }
   ],
   "source": [
    "file_stat.st_ctime"
   ]
  },
  {
   "cell_type": "code",
   "execution_count": 185,
   "metadata": {},
   "outputs": [
    {
     "output_type": "execute_result",
     "data": {
      "text/plain": "time.struct_time(tm_year=2020, tm_mon=7, tm_mday=7, tm_hour=20, tm_min=53, tm_sec=0, tm_wday=1, tm_yday=189, tm_isdst=0)"
     },
     "metadata": {},
     "execution_count": 185
    }
   ],
   "source": [
    "import time\n",
    "time.localtime(file_stat.st_ctime)"
   ]
  },
  {
   "cell_type": "code",
   "execution_count": 189,
   "metadata": {
    "tags": []
   },
   "outputs": [
    {
     "output_type": "stream",
     "name": "stdout",
     "text": "learn python\nSunnyoung\npfr.sunnyoung@gmail.com\n"
    }
   ],
   "source": [
    "f = open(\"file.txt\")\n",
    "content = f.read()\n",
    "print(content)\n",
    "f.close()"
   ]
  },
  {
   "cell_type": "code",
   "execution_count": 194,
   "metadata": {},
   "outputs": [
    {
     "output_type": "execute_result",
     "data": {
      "text/plain": "'pfr.sunnyoung@gmail.com'"
     },
     "metadata": {},
     "execution_count": 194
    }
   ],
   "source": [
    "f = open(\"file.txt\")\n",
    "f.readline()\n",
    "f.readline()\n",
    "f.readline()\n",
    "f.close()"
   ]
  },
  {
   "cell_type": "code",
   "execution_count": 197,
   "metadata": {
    "tags": []
   },
   "outputs": [
    {
     "output_type": "stream",
     "name": "stdout",
     "text": "learn python\nSunnyoung\npfr.sunnyoung@gmail.com"
    }
   ],
   "source": [
    "# coding=utf-8\n",
    "# Sunnyoung  2020.07.07\n",
    "f = open(\"file.txt\")\n",
    "while True:\n",
    "    line = f.readline()\n",
    "    if not line:         #到 EOF，返回空字符串，则终止循环\n",
    "        break\n",
    "    print(line,end=\"\")\n",
    "f.close()                #关闭文件"
   ]
  },
  {
   "cell_type": "code",
   "execution_count": 201,
   "metadata": {
    "tags": []
   },
   "outputs": [
    {
     "output_type": "stream",
     "name": "stdout",
     "text": "learn python\nSunnyoung\npfr.sunnyoung@gmail.com"
    }
   ],
   "source": [
    "f = open(\"file.txt\")\n",
    "content = f.readlines()\n",
    "for line in content:\n",
    "    print(line,end=\"\")\n",
    "f.close()"
   ]
  },
  {
   "cell_type": "code",
   "execution_count": 202,
   "metadata": {
    "tags": []
   },
   "outputs": [
    {
     "output_type": "stream",
     "name": "stdout",
     "text": "learn python\nSunnyoung\npfr.sunnyoung@gmail.com"
    }
   ],
   "source": [
    "import fileinput\n",
    "for line in fileinput.input(\"file.txt\"):\n",
    "    print(line,end=\"\")"
   ]
  },
  {
   "cell_type": "code",
   "execution_count": 203,
   "metadata": {},
   "outputs": [
    {
     "output_type": "execute_result",
     "data": {
      "text/plain": "'learn python\\n'"
     },
     "metadata": {},
     "execution_count": 203
    }
   ],
   "source": [
    "f = open(\"file.txt\")\n",
    "f.readline()\n",
    "f.readline()"
   ]
  },
  {
   "cell_type": "code",
   "execution_count": 205,
   "metadata": {},
   "outputs": [
    {
     "output_type": "execute_result",
     "data": {
      "text/plain": "'learn python\\n'"
     },
     "metadata": {},
     "execution_count": 205
    }
   ],
   "source": [
    "f.seek(0)\n",
    "f.readline()"
   ]
  },
  {
   "cell_type": "code",
   "execution_count": 206,
   "metadata": {},
   "outputs": [
    {
     "output_type": "execute_result",
     "data": {
      "text/plain": "14"
     },
     "metadata": {},
     "execution_count": 206
    }
   ],
   "source": [
    "f.tell()"
   ]
  },
  {
   "cell_type": "code",
   "execution_count": 207,
   "metadata": {},
   "outputs": [
    {
     "output_type": "execute_result",
     "data": {
      "text/plain": "4"
     },
     "metadata": {},
     "execution_count": 207
    }
   ],
   "source": [
    "f.seek(4)"
   ]
  },
  {
   "cell_type": "code",
   "execution_count": 209,
   "metadata": {},
   "outputs": [],
   "source": [
    "f.readline()\n",
    "f.close()"
   ]
  },
  {
   "cell_type": "code",
   "execution_count": 210,
   "metadata": {
    "tags": []
   },
   "outputs": [
    {
     "output_type": "stream",
     "name": "stdout",
     "text": "a\nb\nc\nd\ne\n"
    }
   ],
   "source": [
    "lst = ['a','b','c','d','e']\n",
    "for i in lst:\n",
    "    print(i)"
   ]
  },
  {
   "cell_type": "code",
   "execution_count": 219,
   "metadata": {
    "tags": []
   },
   "outputs": [
    {
     "output_type": "stream",
     "name": "stdout",
     "text": "a\nb\nc\nd\ne\n"
    }
   ],
   "source": [
    "lst_iter = iter(lst)\n",
    "for i in range(len(lst)):\n",
    "    print(next(lst_iter))"
   ]
  },
  {
   "cell_type": "code",
   "execution_count": 221,
   "metadata": {
    "tags": []
   },
   "outputs": [
    {
     "output_type": "stream",
     "name": "stdout",
     "text": "learn python\nSunnyoung\npfr.sunnyoung@gmail.com"
    }
   ],
   "source": [
    "f = open(\"file.txt\")\n",
    "for line in f:\n",
    "    print(line,end=\"\")"
   ]
  },
  {
   "cell_type": "code",
   "execution_count": 222,
   "metadata": {},
   "outputs": [
    {
     "output_type": "execute_result",
     "data": {
      "text/plain": "['learn python\\n', 'Sunnyoung\\n', 'pfr.sunnyoung@gmail.com']"
     },
     "metadata": {},
     "execution_count": 222
    }
   ],
   "source": [
    "[line for line in open(\"file.txt\")]"
   ]
  }
 ],
 "metadata": {
  "language_info": {
   "codemirror_mode": {
    "name": "ipython",
    "version": 3
   },
   "file_extension": ".py",
   "mimetype": "text/x-python",
   "name": "python",
   "nbconvert_exporter": "python",
   "pygments_lexer": "ipython3",
   "version": "3.7.7-final"
  },
  "orig_nbformat": 2,
  "kernelspec": {
   "name": "python3",
   "display_name": "Python 3"
  }
 },
 "nbformat": 4,
 "nbformat_minor": 2
}