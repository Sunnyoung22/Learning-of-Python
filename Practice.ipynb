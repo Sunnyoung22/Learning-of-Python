{
 "cells": [
  {
   "cell_type": "markdown",
   "metadata": {},
   "source": [
    "# Practice"
   ]
  },
  {
   "cell_type": "markdown",
   "metadata": {},
   "source": [
    "## Practice 1"
   ]
  },
  {
   "cell_type": "code",
   "execution_count": 6,
   "metadata": {
    "tags": []
   },
   "outputs": [
    {
     "output_type": "execute_result",
     "data": {
      "text/plain": "[2, 3, 4, 5, 6, 7, 1]"
     },
     "metadata": {},
     "execution_count": 6
    }
   ],
   "source": [
    "#Sunnyoung  2020.07.07\n",
    "a = [1,2,3,4,5,6,7]\n",
    "\"\"\"\n",
    "b = a.pop(0)\n",
    "print(a)\n",
    "a.append(b)\n",
    "print(a)\n",
    "\"\"\"\n",
    "a.append(a.pop(0))\n",
    "print(a)\n"
   ]
  },
  {
   "cell_type": "markdown",
   "metadata": {},
   "source": [
    "## Practice 2"
   ]
  },
  {
   "cell_type": "code",
   "execution_count": 54,
   "metadata": {
    "tags": []
   },
   "outputs": [
    {
     "output_type": "stream",
     "name": "stdout",
     "text": "生成的随机成绩：\n[3, 65, 60, 87, 90, 87, 24, 38, 90, 93, 86, 41, 76, 13, 6, 31, 55, 84, 50, 59, 96, 0, 14, 76, 25, 72, 30, 9, 99, 69, 83, 95, 35, 12, 45, 49, 9, 95, 61, 74]\n总成绩与平均分：\n2186  54.65\n\n低于平均分的成绩:\n3 \t24 \t38 \t41 \t13 \t6 \t31 \t50 \t0 \t14 \t25 \t30 \t9 \t35 \t12 \t45 \t49 \t9 \t\n低于平均分的成绩数量:18\n\n从大到小排序:\n[99, 96, 95, 95, 93, 90, 90, 87, 87, 86, 84, 83, 76, 76, 74, 72, 69, 65, 61, 60, 59, 55, 50, 49, 45, 41, 38, 35, 31, 30, 25, 24, 14, 13, 12, 9, 9, 6, 3, 0]\n"
    }
   ],
   "source": [
    "#Sunnyoung  2020.07.07\n",
    "import random\n",
    "a_lst = []\n",
    "num = 0\n",
    "for i in range(40):\n",
    "    a_lst.append(random.randint(0,100))\n",
    "print(\"生成的随机成绩：\")\n",
    "print(a_lst)\n",
    "sum_a = sum(a_lst)\n",
    "average_a = sum_a/len(a_lst)\n",
    "print(\"总成绩与平均分：\\n{}  {}\".format(sum_a,average_a))\n",
    "print(\"\\n低于平均分的成绩:\")\n",
    "for i in a_lst:\n",
    "    if i <= average_a:\n",
    "        num+=1\n",
    "        print(i,\"\\t\",end=\"\")\n",
    "print(\"\\n低于平均分的成绩数量:{}\".format(num))\n",
    "print(\"\\n从大到小排序:\")\n",
    "a_lst.sort(reverse=True)\n",
    "print(a_lst)"
   ]
  },
  {
   "cell_type": "markdown",
   "metadata": {},
   "source": [
    "## Practice 3"
   ]
  },
  {
   "cell_type": "code",
   "execution_count": 71,
   "metadata": {
    "tags": []
   },
   "outputs": [
    {
     "output_type": "stream",
     "name": "stdout",
     "text": "How are U?\n"
    }
   ],
   "source": [
    "#Sunnyoung  2020.07.07\n",
    "raw_str = \" How  are  U? \"\n",
    "a_str = raw_str.split(\" \")\n",
    "b_str = []\n",
    "\"\"\"\n",
    "for i in range(len(a_str)):\n",
    "    b_str.append(a_str[i].strip())\n",
    "print(b_str)\n",
    "\"\"\"\n",
    "for i in a_str:\n",
    "    if i!=\"\":\n",
    "        b_str.append(i)\n",
    "c_str = \" \".join(b_str)\n",
    "print(c_str)"
   ]
  },
  {
   "cell_type": "markdown",
   "metadata": {},
   "source": [
    "## Practice 4"
   ]
  },
  {
   "cell_type": "code",
   "execution_count": 82,
   "metadata": {
    "tags": []
   },
   "outputs": [
    {
     "output_type": "stream",
     "name": "stdout",
     "text": "第100个斐波那契数列:218922995834555169026\n"
    }
   ],
   "source": [
    "#Sunnyoung  2020.07.07\n",
    "#斐波那契数列\n",
    "a = [0,1] \n",
    "for n in range(2,100):\n",
    "    a.append(a[n-1] + a[n-2])\n",
    "#print(len(a))\n",
    "#print(a)\n",
    "print(\"第100个斐波那契数列:{}\".format(a[len(a)-1]))"
   ]
  }
 ],
 "metadata": {
  "language_info": {
   "codemirror_mode": {
    "name": "ipython",
    "version": 3
   },
   "file_extension": ".py",
   "mimetype": "text/x-python",
   "name": "python",
   "nbconvert_exporter": "python",
   "pygments_lexer": "ipython3",
   "version": "3.7.7-final"
  },
  "orig_nbformat": 2,
  "kernelspec": {
   "name": "python3",
   "display_name": "Python 3"
  }
 },
 "nbformat": 4,
 "nbformat_minor": 2
}