{
 "cells": [
  {
   "cell_type": "code",
   "execution_count": 5,
   "metadata": {
    "tags": []
   },
   "outputs": [
    {
     "output_type": "stream",
     "name": "stdout",
     "text": "[1, 2, 3, 4, 5, 6, 7, 8, 9, 10, 11, 12, 13, 14, 15, 16, 17, 18, 19, 20]\nWall time: 0 ns\n"
    }
   ],
   "source": [
    "%%time\n",
    "# Try to simulate the Joseph problem\n",
    "# Sunnyoung  2020.07.09\n",
    "# %%time Jupyter notebook's magic method\n",
    "def josephus_problem(total=100, step=10, start_pos=1):   #Step + Start_position\n",
    "    \"\"\"Python code for Josephus Problem\n",
    "    \"\"\"\n",
    "    if total <= 0 or step <= 0 or start_pos <= 0:\n",
    "        raise Exception(\"The input parameter needs to be greater than 0.\")\n",
    "    STAY_STIL = True\n",
    "    OUT = False\n",
    "    # Everyone was there at the beginning\n",
    "    stay_or_leave = [STAY_STIL]*total \n",
    "    # circle = [STAY_STIL for x in range(0, total)]    \n",
    "    result = []\n",
    "    index = (start_pos - 1) % total #pos\n",
    "    count = out_number = 0\n",
    "\n",
    "    while out_number < total:\n",
    "        # If the person is still in the circle, then count.\n",
    "        if stay_or_leave[index]:\n",
    "            count += 1\n",
    "        if count == step:\n",
    "            result.append(index + 1) #In fact, result is a queue.\n",
    "            out_number += 1\n",
    "            count = 0\n",
    "            stay_or_leave[index] = OUT\n",
    "            # print(result[out_number-1])\n",
    "        index = (index + 1)% total  # like i++ % 256\n",
    "    return result\n",
    "\n",
    "if __name__ == \"__main__\":\n",
    "    TOTAL = 20\n",
    "    STEP = 1\n",
    "    START_POSITION = 1\n",
    "\n",
    "    try:\n",
    "        result = josephus_problem(TOTAL, STEP, START_POSITION)\n",
    "        print(result)\n",
    "    except Exception as ex:\n",
    "        print(ex)\n",
    "        "
   ]
  },
  {
   "cell_type": "code",
   "execution_count": 28,
   "metadata": {
    "tags": []
   },
   "outputs": [
    {
     "output_type": "stream",
     "name": "stdout",
     "text": "出局的顺序编号为： [2, 4, 6, 8, 10, 12, 14, 16, 18, 20, 3, 7, 11, 15, 19, 5, 13, 1, 17, 9]\n"
    }
   ],
   "source": [
    "# Sunnyoung 2020.07.08\n",
    "\n",
    "def is_inputlegal(input_):\n",
    "    if not input_.isdigit():\n",
    "        return False\n",
    "    elif int(input_) <= 0:\n",
    "        return False\n",
    "    else:\n",
    "        return True\n",
    "\n",
    "total_number = input(\"请输入成员总数：\")\n",
    "if is_inputlegal(total_number):\n",
    "    lucky_number = input(\"数到几排除成员？\")\n",
    "    if is_inputlegal(lucky_number):\n",
    "        result = josephus_problem(int(total_number), int(lucky_number))\n",
    "        print(\"出局的顺序编号为：\", result)\n",
    "    else:\n",
    "        print(\"请输入正整数\")\n",
    "else:\n",
    "    print(\"输入参数有误，请输入正整数\")\n"
   ]
  },
  {
   "cell_type": "code",
   "execution_count": 45,
   "metadata": {
    "tags": []
   },
   "outputs": [
    {
     "output_type": "stream",
     "name": "stdout",
     "text": "[7, 14, 21, 28, 35, 42, 49, 56, 63, 70, 77, 84, 91, 98, 5, 13, 22, 30, 38, 46, 54, 62, 71, 79, 87, 95, 3, 12, 23, 32, 41, 51, 60, 69, 80, 89, 99, 9, 19, 31, 43, 53, 65, 75, 86, 97, 10, 24, 36, 48, 61, 74, 88, 1, 16, 29, 45, 59, 76, 92, 6, 25, 40, 58, 78, 94, 15, 34, 55, 73, 96, 18, 44, 67, 90, 17, 47, 72, 2, 33, 66, 100, 37, 81, 11, 57, 4, 52, 8, 68, 27, 93, 83, 82, 85, 26, 64, 20, 39, 50]\nWall time: 986 µs\n"
    }
   ],
   "source": [
    "%%time\n",
    "# coded by LUO Xinyi\n",
    "people_total_num = 100\n",
    "people_left = 7\n",
    "people_remain = 0\n",
    "\n",
    "people = [x for x in range(1,people_total_num+1)]\n",
    "result = []\n",
    "num = 0\n",
    "while len(people)>people_remain:\n",
    "    i=0             #每i轮报数\n",
    "    while i<len(people):\n",
    "        num+=1\n",
    "        if num == people_left:\n",
    "            result.append(people.pop(i))\n",
    "            num = 0\n",
    "        else:\n",
    "            i+=1\n",
    "print(result)"
   ]
  },
  {
   "cell_type": "code",
   "execution_count": 10,
   "metadata": {
    "tags": []
   },
   "outputs": [
    {
     "output_type": "stream",
     "name": "stdout",
     "text": "[7, 3, 11, 9, 8, 10, 2, 6, 1, 4, 5]\nThe order of outs is:\nName:Bob\tSex:male\tAge:18\nName:Mike\tSex:male\tAge:21\nName:Eve\tSex:female\tAge:18\nName:Amy\tSex:female\tAge:20\nName:Max\tSex:female\tAge:23\nName:Sam\tSex:male\tAge:25\nName:John\tSex:male\tAge:23\nName:Ben\tSex:male\tAge:25\nName:Dani\tSex:female\tAge:22\nName:Alice\tSex:female\tAge:20\nName:Alan\tSex:male\tAge:19\nWall time: 972 µs\n"
    }
   ],
   "source": [
    "%%time\n",
    "# Create a new class which named person and used in the Joseph problem\n",
    "# Sunnyoung  2020.07.09\n",
    "# %%time Jupyter notebook's magic function\n",
    "\n",
    "class Person(object):\n",
    "    # Attention, is __; not _!\n",
    "    def __init__(self, name, sex, age):\n",
    "        self.__name = name\n",
    "        self.__sex = sex\n",
    "        self.__age = age\n",
    "    # Set some raleted parameter\n",
    "    def set_name(self, name):\n",
    "        self.__name = name\n",
    "    def set_age(self, age):\n",
    "        self.__age = age\n",
    "    def set_sex(self, sex):\n",
    "        self.__sex = sex\n",
    "\n",
    "    # Return infomation\n",
    "    def get_name(self):\n",
    "        return self.__name\n",
    "    def get_age(self):\n",
    "        return self.__age\n",
    "    def get_sex(self):\n",
    "        return self.__sex\n",
    "    \n",
    "    # Print infomation about this people\n",
    "    def show_info(self):\n",
    "        print(\"Name:{}\\tSex:{}\\tAge:{}\".format(self.__name, self.__sex, self.__age))\n",
    "\n",
    "personal_info_file = open(\".\\\\Personal Information.txt\")\n",
    "personal_info = []\n",
    "for line in personal_info_file:\n",
    "    personal_info.append(line.strip('\\n')) # remove \\n\n",
    "personal_info_file.close()\n",
    "\n",
    "group = {}\n",
    "for i in range(len(personal_info)):\n",
    "        group[i+1] = Person(personal_info[i].split(\" \")[0], personal_info[i].split(\" \")[1], personal_info[i].split(\" \")[2])\n",
    "\n",
    "total = len(group)\n",
    "step = 7\n",
    "start_pos = 1\n",
    "try:\n",
    "    result = josephus_problem(total, step, start_pos)\n",
    "    print(result)\n",
    "except Exception as ex:\n",
    "    print(ex)\n",
    "else:\n",
    "    print(\"The order of outs is:\")\n",
    "    for i in range(total):\n",
    "        group[result[i]].show_info()\n",
    "    "
   ]
  },
  {
   "cell_type": "code",
   "execution_count": 7,
   "metadata": {
    "tags": []
   },
   "outputs": [],
   "source": [
    "\n",
    "personal_info_file = open(\".\\\\Personal Information.txt\")\n",
    "personal_info = []\n",
    "\"\"\"\n",
    "while True:\n",
    "    line = f.readline()\n",
    "    if not line:\n",
    "        break\n",
    "\"\"\"\n",
    "for line in personal_info_file:\n",
    "    personal_info.append(line.strip('\\n')) # remove \\n\n",
    "\n",
    "\n",
    "test = personal_info[0].split(\" \")[0]\n",
    "assert(test == \"Dani\")\n",
    "\n"
   ]
  },
  {
   "cell_type": "code",
   "execution_count": 30,
   "metadata": {
    "tags": []
   },
   "outputs": [
    {
     "output_type": "stream",
     "name": "stdout",
     "text": "[2, 4, 6, 8, 10, 12, 14, 16, 18, 20, 3, 7, 11, 15, 19, 5, 13, 1, 17, 9]\nWall time: 0 ns\n"
    }
   ],
   "source": [
    "%%time\n",
    "# Try to simulate the Joseph problem\n",
    "# Coded by LI Yinlin\n",
    "# %%time Jupyter notebook's magic method\n",
    "def josephus_problem(total=100, step=10, start_pos=1):   #Step + Start_position\n",
    "    \"\"\"Python code for Josephus Problem\n",
    "    \"\"\"\n",
    "    ring_ = list(range(1, total + 1))\n",
    "    out_order = (start_pos - 1 + step - 1) %total\n",
    "    total -= 1\n",
    "    result = [ring_.pop(out_order)]\n",
    "    for i in range(total):\n",
    "        out_order = (out_order + step - 1)% total\n",
    "        total -= 1\n",
    "        result.append(ring_.pop(out_order))\n",
    "    return result\n",
    "\n",
    "if __name__ == \"__main__\":\n",
    "    TOTAL = 20\n",
    "    LUCKY_NUMBER = 2\n",
    "    START_POSITION = 1\n",
    "    result = josephus_problem(TOTAL, LUCKY_NUMBER, START_POSITION)\n",
    "    print(result)"
   ]
  },
  {
   "cell_type": "code",
   "execution_count": null,
   "metadata": {},
   "outputs": [],
   "source": []
  }
 ],
 "metadata": {
  "language_info": {
   "codemirror_mode": {
    "name": "ipython",
    "version": 3
   },
   "file_extension": ".py",
   "mimetype": "text/x-python",
   "name": "python",
   "nbconvert_exporter": "python",
   "pygments_lexer": "ipython3",
   "version": "3.7.7-final"
  },
  "orig_nbformat": 2,
  "kernelspec": {
   "name": "python_defaultSpec_1594619281104",
   "display_name": "Python 3.7.7 64-bit ('base': conda)"
  }
 },
 "nbformat": 4,
 "nbformat_minor": 2
}