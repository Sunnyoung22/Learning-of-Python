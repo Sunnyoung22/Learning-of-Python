{
 "cells": [
  {
   "cell_type": "code",
   "execution_count": 1,
   "metadata": {
    "tags": []
   },
   "outputs": [
    {
     "output_type": "stream",
     "name": "stdout",
     "text": "[2, 4, 6, 8, 10, 12, 14, 16, 18, 20, 3, 7, 11, 15, 19, 5, 13, 1, 17, 9]\n"
    }
   ],
   "source": [
    "# Try to simulate the Joseph problem\n",
    "# Sunnyoung  2020.07.09\n",
    "def josephus_problem(total=100, lucky_number=10):\n",
    "    \"\"\"Python code for Josephus Problem\n",
    "    \"\"\"\n",
    "    STAY_STIL = True\n",
    "    OUT = False\n",
    "    # Everyone was there at the beginning\n",
    "    # circle = [STAY_STIL]*total\n",
    "    circle = [STAY_STIL for x in range(0,total)]    \n",
    "    result = []\n",
    "    index = count = out_number = 0\n",
    "\n",
    "    while out_number < total:\n",
    "        # If the person is still in the circle, then count.\n",
    "        if circle[index]:\n",
    "            count += 1\n",
    "        if count == lucky_number:\n",
    "            result.append(index + 1)    #In fact, result is a queue.\n",
    "            out_number += 1\n",
    "            count = 0\n",
    "            circle[index] = OUT\n",
    "            #print(result[out_number-1])\n",
    "        index = (index + 1)% total  # like i++ % 256\n",
    "    return result\n",
    "\n",
    "if __name__ == \"__main__\":\n",
    "    SIZE = 20\n",
    "    LUCKY_NUMBER = 2\n",
    "    result = josephus_problem(SIZE, LUCKY_NUMBER)\n",
    "    print(result)\n"
   ]
  },
  {
   "cell_type": "code",
   "execution_count": 2,
   "metadata": {
    "tags": []
   },
   "outputs": [
    {
     "output_type": "stream",
     "name": "stdout",
     "text": "出局的顺序编号为： [2, 4, 6, 8, 10, 12, 14, 16, 18, 20, 22, 24, 26, 28, 30, 3, 7, 11, 15, 19, 23, 27, 1, 9, 17, 25, 5, 21, 13, 29]\n"
    }
   ],
   "source": [
    "# Sunnyoung 2020.07.08\n",
    "\n",
    "def is_inputlegal(input_):\n",
    "    if not input_.isdigit():\n",
    "        return False\n",
    "    elif int(input_) < 0:\n",
    "        return False\n",
    "    else:\n",
    "        return True\n",
    "\n",
    "total_number = input(\"请输入成员总数：\")\n",
    "if is_inputlegal(total_number):\n",
    "    lucky_number = input(\"数到几排除成员？\")\n",
    "    if is_inputlegal(lucky_number):\n",
    "        result = josephus_problem(int(total_number), int(LUCKY_NUMBER))\n",
    "        print(\"出局的顺序编号为：\",result)\n",
    "    else:\n",
    "        print(\"请输入正整数\")\n",
    "else:\n",
    "    print(\"输入参数有误，请输入正整数\")\n"
   ]
  },
  {
   "cell_type": "code",
   "execution_count": null,
   "metadata": {},
   "outputs": [],
   "source": []
  }
 ],
 "metadata": {
  "language_info": {
   "codemirror_mode": {
    "name": "ipython",
    "version": 3
   },
   "file_extension": ".py",
   "mimetype": "text/x-python",
   "name": "python",
   "nbconvert_exporter": "python",
   "pygments_lexer": "ipython3",
   "version": 3
  },
  "orig_nbformat": 2,
  "kernelspec": {
   "name": "python_defaultSpec_1594307936295",
   "display_name": "Python 3.7.7 64-bit (virtualenv)"
  }
 },
 "nbformat": 4,
 "nbformat_minor": 2
}